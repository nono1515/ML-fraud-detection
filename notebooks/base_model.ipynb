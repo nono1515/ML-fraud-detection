{
 "cells": [
  {
   "cell_type": "markdown",
   "metadata": {},
   "source": [
    "# Quick model training\n",
    "\n",
    "The purpose of this notebook is to allow to quickly train and evaluate a model, using training data only and cross-validation.\n",
    "\n",
    "All parameters are defined in the next cell. Only those should be modified."
   ]
  },
  {
   "cell_type": "code",
   "execution_count": null,
   "metadata": {},
   "outputs": [],
   "source": [
    "xgb_params = {\n",
    "    \"device\": \"gpu\",\n",
    "    \"eta\": 0.3,\n",
    "    \"max_depth\": 6,\n",
    "    \"subsample\": 0.5,\n",
    "    \"colsample_bytree\": 0.8,\n",
    "    \"lambda\": 1,\n",
    "    \"alpha\": 0,\n",
    "    \"eval_metric\": \"aucpr\",\n",
    "    \"objective\": \"binary:logistic\",\n",
    "    \"verbosity\": 0,\n",
    "}\n",
    "\n",
    "k_fold_params = {\"n_splits\": 5, \"shuffle\": True, \"random_state\": 42}\n",
    "\n",
    "features_to_keep = []  # keep all\n"
   ]
  },
  {
   "cell_type": "code",
   "execution_count": null,
   "metadata": {},
   "outputs": [],
   "source": [
    "import matplotlib.pyplot as plt\n",
    "import pandas as pd\n",
    "from sklearn.metrics import (\n",
    "    ConfusionMatrixDisplay,\n",
    "    PrecisionRecallDisplay,\n",
    "    classification_report,\n",
    ")\n",
    "from sklearn.model_selection import StratifiedKFold, cross_val_predict\n",
    "from xgboost import XGBClassifier\n"
   ]
  },
  {
   "cell_type": "code",
   "execution_count": null,
   "metadata": {},
   "outputs": [],
   "source": [
    "train = pd.read_csv(\"../data/split/train.csv\")\n",
    "y_train = train[\"Class\"]\n",
    "X_train = train.drop([\"Class\"], axis=1)\n",
    "if features_to_keep:\n",
    "    X_train = X_train[features_to_keep]\n",
    "\n",
    "labels = [\"Not Fraud\", \"Fraud\"]\n",
    "model = XGBClassifier(**xgb_params)\n",
    "k_fold = StratifiedKFold(**k_fold_params)\n",
    "train_preds = cross_val_predict(model, X_train, y_train, cv=k_fold)\n",
    "train_proba = cross_val_predict(\n",
    "    model, X_train, y_train, cv=k_fold, method=\"predict_proba\"\n",
    ")\n",
    "\n",
    "print(classification_report(y_train, train_preds, target_names=labels))\n",
    "ConfusionMatrixDisplay.from_predictions(y_train, train_preds)\n",
    "PrecisionRecallDisplay.from_predictions(y_train, train_proba[:, 1])\n",
    "plt.show()"
   ]
  }
 ],
 "metadata": {
  "kernelspec": {
   "display_name": "venv",
   "language": "python",
   "name": "python3"
  },
  "language_info": {
   "codemirror_mode": {
    "name": "ipython",
    "version": 3
   },
   "file_extension": ".py",
   "mimetype": "text/x-python",
   "name": "python",
   "nbconvert_exporter": "python",
   "pygments_lexer": "ipython3",
   "version": "3.11.8"
  }
 },
 "nbformat": 4,
 "nbformat_minor": 2
}
